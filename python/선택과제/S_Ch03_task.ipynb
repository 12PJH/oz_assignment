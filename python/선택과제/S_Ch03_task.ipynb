{
 "cells": [
  {
   "cell_type": "markdown",
   "metadata": {},
   "source": [
    "<span style=\"font-size:100%\">\n",
    "\n",
    "수업은 모두 열심히 들으셨나요?\n",
    "\n",
    "간혹 강의에서 언급되지 않은 내용이 문제로 나올 수 있습니다.<br>\n",
    "그럴땐 강의 내용 외 문제는 구글링을 통해 해결해주세요<br></span>\n",
    "<span style=\"font-size:80%\">\n",
    "(구글링 또한 개발자가 갖쳐야할 역량 중에 하나랍니다 😊)\n",
    "</span>\n",
    "\n",
    "---"
   ]
  },
  {
   "cell_type": "markdown",
   "metadata": {},
   "source": [
    "<span style=\"font-size:80%\">[문제1]<br><br></span>\n",
    "```주로 작성 중인 코드의 끝을 알리는 기호로 사용되며 파이썬에서 한 줄에 작성된 서로 다른 코드를 구분 지을 때 사용할 수 있는 기호를 골라주세요```\n",
    "\n",
    "1. ' , ' (쉼표)\n",
    "2. ' + ' (더하기 기호)\n",
    "3. ' ; ' (세미콜론)\n",
    "4. ' / ' (슬래시)"
   ]
  },
  {
   "cell_type": "markdown",
   "metadata": {},
   "source": [
    "<span style=\"color:red\">답변</span> :"
   ]
  },
  {
   "cell_type": "markdown",
   "metadata": {},
   "source": [
    "3번 :   ;   (세미클론)"
   ]
  },
  {
   "cell_type": "markdown",
   "metadata": {},
   "source": [
    "----"
   ]
  },
  {
   "cell_type": "markdown",
   "metadata": {},
   "source": [
    "<span style=\"font-size:80%\">[문제2]<br><br></span>\n",
    "```Python의 PEP 8은 무엇인지 설명하고 PEP 8의 핵심적인 규칙을 1개 이상을 설명해주세요```"
   ]
  },
  {
   "cell_type": "markdown",
   "metadata": {},
   "source": [
    "<span style=\"color:red\">답변</span>"
   ]
  },
  {
   "cell_type": "markdown",
   "metadata": {},
   "source": [
    "PEP 8은 Python Enhancement Proposal #8의 줄임말로,\n",
    "Python 코드 스타일 가이드를 정의한 문서이다.\n",
    "\n",
    "핵심적인 규칙은 \n",
    "들여쓰기(들여쓰기는 공백 4칸을 사용, 탭(Tab)보다 공백(Space)을 권장)\n",
    "\n",
    "줄 길이 제한(한 줄은 79자 이하로 작성하는 것이 좋다, 너무 긴 줄은 줄바꿈(\\) 또는 괄호로 나누어 정리)"
   ]
  },
  {
   "cell_type": "markdown",
   "metadata": {},
   "source": [
    "----"
   ]
  },
  {
   "cell_type": "markdown",
   "metadata": {},
   "source": [
    "<span style=\"font-size:80%\">[문제3]<br><br></span>\n",
    "```Python에서 \"#\"이 의마하는 것은 무엇인지 설명해주세요```"
   ]
  },
  {
   "cell_type": "markdown",
   "metadata": {},
   "source": [
    "<span style=\"color:red\">답변</span>"
   ]
  },
  {
   "cell_type": "markdown",
   "metadata": {},
   "source": [
    "Python에서 #은 주석을 의미합니다.\n",
    "코드에 대한 설명이나 메모를 작성할 때 사용되며,\n",
    "실행 시에는 무시됩니다."
   ]
  },
  {
   "cell_type": "markdown",
   "metadata": {},
   "source": [
    "----"
   ]
  },
  {
   "cell_type": "markdown",
   "metadata": {},
   "source": [
    "<span style=\"font-size:80%\">[문제4]<br><br></span>\n",
    "```Python의 들여쓰기 장점과 기능에 대해 설명해주세요```"
   ]
  },
  {
   "cell_type": "markdown",
   "metadata": {},
   "source": [
    "<span style=\"color:red\">답변</span>"
   ]
  },
  {
   "cell_type": "markdown",
   "metadata": {},
   "source": [
    "python은 중괄호 대신 들여쓰기로 코드 블록을 구분하는 기능을 한다.\n",
    "\n",
    "장점\n",
    "\n",
    "가독성 향상\n",
    "\n",
    "들여쓰기를 사용함으로써 코드의 구조가 명확하게 구분된다. 특히 긴 코드나 복잡한 논리를 다룰 때 매우 유용하다.\n",
    "\n",
    "구조적인 코드 유도\n",
    "\n",
    "들여쓰기를 사용해야만 코드가 정상적으로 실행되기 때문에, 자연스럽게 코드가 논리적이고 구조적으로 정리된다. 이는 코드가 복잡해질수록 더욱 중요해지며, 코드의 유지보수성도 크게 향상시킵니다.\n",
    "\n",
    "\n"
   ]
  },
  {
   "cell_type": "markdown",
   "metadata": {},
   "source": [
    "----"
   ]
  },
  {
   "cell_type": "markdown",
   "metadata": {},
   "source": [
    "<span style=\"font-size:80%\">[문제5]<br><br></span>\n",
    "```print( )문의 기능 및 특징에 대해 설명해주세요```"
   ]
  },
  {
   "cell_type": "markdown",
   "metadata": {},
   "source": [
    "<span style=\"color:red\">답변</span>"
   ]
  },
  {
   "cell_type": "markdown",
   "metadata": {},
   "source": [
    "print() 함수는 콘솔에 데이터를 출력하는 기능이다. 주로 프로그램의 실행 결과나 디버깅 정보를 사용자에게 보여주는 데 사용되며 하나 이상의 값을 출력할 수 있고, 값은 문자열, 숫자, 변수 등 다양한 형태가 있다.\n",
    "\n",
    "특징\n",
    "\n",
    "자동 줄바꿈\n",
    "\n",
    "기본적으로 출력이 끝난 후 자동으로 줄바꿈이 이루어진다.\n",
    "\n",
    "여러 개의 인자 출력\n",
    "\n",
    "print() 함수는 여러 개의 값을 한 번에 출력할 수 있으며, 이를 통해 다양한 데이터를 한 번에 출력할 수 있습니다.\n"
   ]
  }
 ],
 "metadata": {
  "language_info": {
   "name": "python"
  }
 },
 "nbformat": 4,
 "nbformat_minor": 2
}
