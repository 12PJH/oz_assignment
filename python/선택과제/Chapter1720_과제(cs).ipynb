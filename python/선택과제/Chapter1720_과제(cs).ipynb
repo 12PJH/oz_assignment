{
 "cells": [
  {
   "cell_type": "markdown",
   "metadata": {
    "id": "WXEwMsfUct7U"
   },
   "source": [
    "컴퓨터 기초 지식을 의미하는 CS(Computer science)는<br>\n",
    "코딩 테스트와 함께 기술 면접에서 지원자에게 필수적으로 요구합니다.<br>\n",
    "\n",
    "수업 내용 중 기술 면접에 자주 나오는 질문 3가지와 기본적으로 알아야 할 내용 과제로 선정했습니다.<br>\n",
    "\n",
    "관련 내용에 대해서는 구글링 또는 관련 서적을 통해 상세히 공부하시고<br>\n",
    "답변은 최대한 핵심만 담아 간결하게 작성해주세요<br>\n",
    "\n",
    "기술 블로그를 운영 중이신 경우<br>\n",
    "답변 내용을 기술 블로그에 작성하신 후 링크를 답변에 남겨주셔도 됩니다.<br>"
   ]
  },
  {
   "cell_type": "markdown",
   "metadata": {
    "id": "qoyC9wF-3hvs"
   },
   "source": [
    "-----"
   ]
  },
  {
   "cell_type": "markdown",
   "metadata": {
    "id": "rAD_O3Gmc_43"
   },
   "source": [
    "[문제1]\n",
    "\n",
    "객체지향에 대해서 설명해주세요"
   ]
  },
  {
   "cell_type": "markdown",
   "metadata": {},
   "source": [
    "객체지향은 프로그래밍 패러다임 중의 하나로 프로그램을 '객체'라는 단위로 나누어 취급하고, 이 객체들끼리 상호작용하여 동작하도록 프로그래밍 하는 방식이다.\n",
    "클래스, 상속, 다형성, 캡슐화, 추상화등이 있고 장점으로는 클래스와 상속을 통해 코드의 재사용성이 높고, 객체와 클래스는 실생활 개념들을 코드로 옮기기 쉬워 편리하고,\n",
    "새로운 기능이 필요할 때 기존 클래스를 확장하여 쉽게 기능을 추가할 수 있다."
   ]
  },
  {
   "cell_type": "markdown",
   "metadata": {},
   "source": [
    "---"
   ]
  },
  {
   "cell_type": "markdown",
   "metadata": {
    "id": "3uK_auXYdgk2"
   },
   "source": [
    "[문제2]\n",
    "\n",
    "init 메소드에 대해 설명해주세요"
   ]
  },
  {
   "cell_type": "markdown",
   "metadata": {},
   "source": [
    "__init__ 메서드는 클래스에서 객체가 생성될 때 자동으로 호출되는 특별한 메서드로,인스턴스 변수를 초기화 할수있다. 이 메서드는 첫 번째 매개변수로 항상 self를 받는다. self는 자기 자신을 가르키며, 객체 내부의 값을 지정할수 있다. 그리고 이 메서드를 사용함으로 같은 클래스를 사용하더라도 서로 다른 속성을 가진 객체들을 쉽게 만들 수 있고, 객체 생성 시 초기화가 자동으로 진행되기 때문에 더 간결하고 명확하게 코드를 만들수있다."
   ]
  },
  {
   "cell_type": "markdown",
   "metadata": {},
   "source": [
    "[문제3]\n",
    "\n",
    "클래스 상속에 대해 설명해주세요"
   ]
  },
  {
   "cell_type": "markdown",
   "metadata": {},
   "source": [
    "클래스 상속이란 기존에 만들어져있던 클래스의 속성과 메서드를 물려받아 새로운 클래스를 구성하는 것이다. 장점으론 기존 변수와 코드를 재사용할수있기에 개발 시간이 단축되고, 먼저 검증된 프로그램을 재사용하기에 신뢰성 있는 프로그램을 개발할 수 있다.\n",
    "그리고 유지보수에도 용이하다."
   ]
  },
  {
   "cell_type": "markdown",
   "metadata": {},
   "source": [
    "[문제4]\n",
    "\n",
    "클래스 다중 상속과 관련된 MRO에 대해 설명해주세요"
   ]
  },
  {
   "cell_type": "markdown",
   "metadata": {},
   "source": [
    "다중 상속은 하나의 클래스가 두 개 이상의 부모 클래스로부터 속성과 메서드를 동시에 상속받는 것을 의미하고, 여러 클래스의 기능을 결합하여 새로운 클래스를 만들 수 있다.\n",
    "하지만 다중 상속을 사용할 경우, 상속받은 부모 클래스들에 동일한 이름의 메서드나 속성이 존재할 때, 어떤 클래스의 것을 우선 사용할 것인지 모호해질 수 있습니다. 이런 모호성을 해결하기 위한 규칙이 바로 MRO(메서드 탐색 순서)입니다. \n",
    "MRO는 메서드나 속성을 검색할 때 따르는 클래스 탐색 순서를 정의한다. 순서를 결정하기 위해 C3 선형화라는 알고리즘을 사용한다. 이 알고리즘은 부모 클래스들을 왼쪽에서 오른쪽으로 탐색하며, 중복을 피하고 일관된 순서를 유지하도록 보장한다.\n",
    "\n",
    "\n"
   ]
  },
  {
   "cell_type": "markdown",
   "metadata": {},
   "source": [
    "[문제5]\n",
    "\n",
    "Self는 어떤 키워드 인가요?"
   ]
  },
  {
   "cell_type": "markdown",
   "metadata": {},
   "source": [
    "self는 객체의 인스턴스 그 자체를 말하며, 객체 자기 자신을 참조하는 매겨변수이다.  \n",
    "고정된 이름이지만, 일반적으로 self를 많이 쓴다. 그리고 클래스 내의 인스턴스 변수나 메서드에 접근할 수 있다.\n"
   ]
  },
  {
   "cell_type": "markdown",
   "metadata": {},
   "source": [
    "[문제6]\n",
    "\n",
    "ZeroDivisionError,  IndexError 외에 3가지 이상의 파이썬 에러에 대해 설명해주세요"
   ]
  },
  {
   "cell_type": "markdown",
   "metadata": {},
   "source": [
    "ValueError : 숫자가 필요한 곳에 문자열이 전달되면 발생한다.  \n",
    "TypeError : 예상하는 데이터 타입이 아닌 값이 전달되면 발생한다.\n",
    "FileNotFoundError : 파일이 존재하지 않거나 경로가 잘못된 경우에 발생한다.\n",
    "KetError : 딕셔너리 내에 존재하지 않는 키를 사용할 때 발생한다."
   ]
  }
 ],
 "metadata": {
  "colab": {
   "authorship_tag": "ABX9TyP7YKA5FdtGggYfD74V7SMJ",
   "provenance": []
  },
  "kernelspec": {
   "display_name": "Python 3",
   "name": "python3"
  },
  "language_info": {
   "name": "python"
  }
 },
 "nbformat": 4,
 "nbformat_minor": 0
}
