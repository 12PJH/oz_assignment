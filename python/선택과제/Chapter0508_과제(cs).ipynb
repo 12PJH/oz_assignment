{
 "cells": [
  {
   "cell_type": "markdown",
   "metadata": {
    "id": "WXEwMsfUct7U"
   },
   "source": [
    "컴퓨터 기초 지식을 의미하는 CS(Computer science)는<br>\n",
    "코딩 테스트와 함께 기술 면접에서 지원자에게 필수적으로 요구합니다.<br>\n",
    "\n",
    "수업 내용 중 기술 면접에 자주 나오는 질문 3가지와 기본적으로 알아야 할 내용 과제로 선정했습니다.<br>\n",
    "\n",
    "관련 내용에 대해서는 구글링 또는 관련 서적을 통해 상세히 공부하시고<br>\n",
    "답변은 최대한 핵심만 담아 간결하게 작성해주세요<br>\n",
    "\n",
    "기술 블로그를 운영 중이신 경우<br>\n",
    "답변 내용을 기술 블로그에 작성하신 후 링크를 답변에 남겨주셔도 됩니다.<br>"
   ]
  },
  {
   "cell_type": "markdown",
   "metadata": {
    "id": "qoyC9wF-3hvs"
   },
   "source": [
    "-----"
   ]
  },
  {
   "cell_type": "markdown",
   "metadata": {
    "id": "rAD_O3Gmc_43"
   },
   "source": [
    "[문제1]\n",
    "\n",
    "Python의 변수 할당 개념을 다른 언어와 비교해 설명해주세요\n"
   ]
  },
  {
   "cell_type": "markdown",
   "metadata": {},
   "source": [
    " 우선 '변수'란, 데이터를 저장할 수 있는 메모리 공간 자체를 의미한다. 숫자, 문자 뿐만 아니라 객체 혹은 함수까지 가능하다. 변수에 담긴 값은 프로그램 실행 중 언제든지 변경이 가능하고 값이 변경이 가능하기에 '변수'라고 한다.  \n",
    "\n",
    "파이썬은 '객체 참조에 의한 전달 방식'으로 동작하는데 변수에 값을 바로 담는것이 아니라, 값 객체는 별도의 공간에 저장되고 값 객체가 저장된 주솟값을 가리킨다."
   ]
  },
  {
   "cell_type": "markdown",
   "metadata": {},
   "source": [
    "---"
   ]
  },
  {
   "cell_type": "markdown",
   "metadata": {
    "id": "3uK_auXYdgk2"
   },
   "source": [
    "[문제2]\n",
    "\n",
    "Python의 실수형(float) 계산 시 오차가 발생하는 이유에 대해 간단히 설명해 주세요"
   ]
  },
  {
   "cell_type": "markdown",
   "metadata": {},
   "source": [
    "Python의 실수형(float)의 계산 시 오차가 발생하는 가장 큰 이유는 '부동 소수점 표현 방식의 한계'때문이다.\n",
    "(부동 소수점 이란, 소수점의 위치를 고정하지 않고 소수점의 위치를 나타내는 수를 따로 적어 표현하는 방식이다.)\n",
    "부동 소수점 방식에서는 실수를 정확하게 표현할 수 없고, 10진수로 표현된 소수값이 2진수로 변환될 때 컴퓨터가 표현할 수 있는 유효 자릿수를 넘어서서 오차가 발생한다."
   ]
  },
  {
   "cell_type": "markdown",
   "metadata": {},
   "source": [
    "----"
   ]
  },
  {
   "cell_type": "markdown",
   "metadata": {
    "id": "2Jte2VLKdiPm"
   },
   "source": [
    "[문제3]\n",
    "\n",
    "슬라이싱에 대해 간단히 설명해주세요"
   ]
  },
  {
   "cell_type": "markdown",
   "metadata": {},
   "source": [
    "시퀸스 자료형에서 일정한 규칙을 가지고 특정 범위의 값을 추출하는 것을 '슬라이싱'이라고 한다."
   ]
  },
  {
   "cell_type": "code",
   "execution_count": null,
   "metadata": {
    "vscode": {
     "languageId": "plaintext"
    }
   },
   "outputs": [],
   "source": []
  }
 ],
 "metadata": {
  "colab": {
   "authorship_tag": "ABX9TyP7YKA5FdtGggYfD74V7SMJ",
   "provenance": []
  },
  "kernelspec": {
   "display_name": "Python 3",
   "name": "python3"
  },
  "language_info": {
   "name": "python"
  }
 },
 "nbformat": 4,
 "nbformat_minor": 0
}
