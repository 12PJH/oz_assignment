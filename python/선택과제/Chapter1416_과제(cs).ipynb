{
 "cells": [
  {
   "cell_type": "markdown",
   "metadata": {
    "id": "WXEwMsfUct7U"
   },
   "source": [
    "컴퓨터 기초 지식을 의미하는 CS(Computer science)는<br>\n",
    "코딩 테스트와 함께 기술 면접에서 지원자에게 필수적으로 요구합니다.<br>\n",
    "\n",
    "수업 내용 중 기술 면접에 자주 나오는 질문 3가지와 기본적으로 알아야 할 내용 과제로 선정했습니다.<br>\n",
    "\n",
    "관련 내용에 대해서는 구글링 또는 관련 서적을 통해 상세히 공부하시고<br>\n",
    "답변은 최대한 핵심만 담아 간결하게 작성해주세요<br>\n",
    "\n",
    "기술 블로그를 운영 중이신 경우<br>\n",
    "답변 내용을 기술 블로그에 작성하신 후 링크를 답변에 남겨주셔도 됩니다.<br>"
   ]
  },
  {
   "cell_type": "markdown",
   "metadata": {
    "id": "qoyC9wF-3hvs"
   },
   "source": [
    "-----"
   ]
  },
  {
   "cell_type": "markdown",
   "metadata": {
    "id": "rAD_O3Gmc_43"
   },
   "source": [
    "[문제1]\n",
    "\n",
    "파이썬 2.7 버전과 파이썬 3에서 range 차이를 설명해주세요"
   ]
  },
  {
   "cell_type": "markdown",
   "metadata": {},
   "source": [
    "# 파이썬 2.7버전의 range\n",
    "* list를 반환한다\n",
    "* 메모리에 전체 값을 한 번에 할당하기 때문에 큰 숫자를 사용 할 때 메모리의 사용량이 크다.  \n",
    "\n",
    "# 파이썬 3버전의 range\n",
    "* 3버전은 리스트로 반환하지않고 객체로 반환한다.\n",
    "* 필요할 떄 값을 생성하는 방식이라 메모리 적 효율이 높다."
   ]
  },
  {
   "cell_type": "markdown",
   "metadata": {},
   "source": [
    "---"
   ]
  },
  {
   "cell_type": "markdown",
   "metadata": {
    "id": "3uK_auXYdgk2"
   },
   "source": [
    "[문제2]\n",
    "\n",
    "Python의 얕은 복사와 깊은 복사에 대해서 설명하세요"
   ]
  },
  {
   "cell_type": "markdown",
   "metadata": {},
   "source": [
    "# 얕은 복사\n",
    "* 겉만 복사하고, 내부에 있는 객체는 원본과 공유한다.\n",
    "* 하나를 바꾸면 공유하고 있는 곳에도 영향이 간다.\n",
    "특징으로는 1단계만 복사되고, 내부 객체는 같은 메모리 주소를 가르킨다.   \n",
    "# 깊은 복사\n",
    "* 전체를 복사하고, 내부에 있는 객체들까지 완전히 새로 복사된다.\n",
    "* 원본과 완전히 독립적으로 생성되며, 하나를 바꾸어도 다른 파일에 영향이 없다\n",
    "특징으로는 모든 계층의 객체를 새로 복사하고, 객체끼리 다른 메모리 주소를 가르킨다.\n"
   ]
  }
 ],
 "metadata": {
  "colab": {
   "authorship_tag": "ABX9TyP7YKA5FdtGggYfD74V7SMJ",
   "provenance": []
  },
  "kernelspec": {
   "display_name": "Python 3",
   "name": "python3"
  },
  "language_info": {
   "name": "python"
  }
 },
 "nbformat": 4,
 "nbformat_minor": 0
}
