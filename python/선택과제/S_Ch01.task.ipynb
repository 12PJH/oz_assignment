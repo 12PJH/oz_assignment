{
 "cells": [
  {
   "cell_type": "markdown",
   "metadata": {},
   "source": [
    "<span style=\"font-size:100%\">\n",
    "\n",
    "수업은 모두 열심히 들으셨나요?\n",
    "\n",
    "간혹 강의에서 언급되지 않은 내용이 문제로 나올 수 있습니다.<br>\n",
    "그럴땐 강의 내용 외 문제는 구글링을 통해 해결해주세요<br></span>\n",
    "<span style=\"font-size:80%\">\n",
    "(구글링 또한 개발자가 갖쳐야할 역량 중에 하나랍니다 😊)\n",
    "</span>\n",
    "\n",
    "---"
   ]
  },
  {
   "cell_type": "markdown",
   "metadata": {},
   "source": [
    "<span style=\"font-size:80%\">[문제1]<br><br></span>\n",
    "```인터프리트 방식에 대해 설명하고 2개 이상의 장점을 설명해주세요```"
   ]
  },
  {
   "cell_type": "markdown",
   "metadata": {},
   "source": [
    "<span style=\"color:red\">답변</span>"
   ]
  },
  {
   "cell_type": "markdown",
   "metadata": {},
   "source": [
    "인터프리트 방식이란, 코드를 한 줄씩 읽어나가며 실행하는 방식이다.\n",
    "예)JavaScript, Python 등\n",
    "장점으로는 컴파일이라는 과정이 없기 때문에 오류에 대한 수정이 빠른편이다.\n",
    "오류 발생 시 발생한 부분에서 멈추게 되므로 오류 발견이 쉬운편이다."
   ]
  },
  {
   "cell_type": "markdown",
   "metadata": {},
   "source": [
    "---"
   ]
  },
  {
   "cell_type": "markdown",
   "metadata": {},
   "source": [
    "<span style=\"font-size:80%\">[문제2]<br><br></span>\n",
    "```동적 타입 방식의 장점과 단점을 간략히 설명해주세요```"
   ]
  },
  {
   "cell_type": "markdown",
   "metadata": {},
   "source": [
    "<span style=\"color:red\">답변</span>"
   ]
  },
  {
   "cell_type": "markdown",
   "metadata": {},
   "source": [
    "장점은 코드 작성 시 용도의 제한이 없어서 유연하고 효율적이다.\n",
    "단점은 프로그램 실행 때 문제를 확인할 수 있기 때문에 코드가 길고 복잡할 경우 문제를 해결하는게 어렵다."
   ]
  },
  {
   "cell_type": "markdown",
   "metadata": {},
   "source": [
    "---"
   ]
  },
  {
   "cell_type": "markdown",
   "metadata": {},
   "source": [
    "<span style=\"font-size:80%\">[문제3]<br><br></span>\n",
    "```Python으로 정적타입 방식의 코드를 작성할 수 있는 방법을 구글링을 통해 검색 후 설명해주세요```"
   ]
  },
  {
   "cell_type": "markdown",
   "metadata": {},
   "source": [
    "<span style=\"color:red\">답변</span>"
   ]
  },
  {
   "cell_type": "markdown",
   "metadata": {},
   "source": [
    "타입 힌트(type hint)\n",
    "\n",
    "함수 인자와 반환값, 변수에 타입을 명시할 수 있습니다.\n",
    "실행 시엔 강제되지 않지만, 정적 분석 도구와 함께 사용됩니다.\n",
    "\n",
    "mypy\n",
    "\n",
    "타입 힌트를 분석해 타입 오류를 사전에 알려주는 도구입니다.\n",
    "간단한 CLI 명령으로 코드 전체를 검사할 수 있습니다."
   ]
  },
  {
   "cell_type": "markdown",
   "metadata": {},
   "source": [
    "---"
   ]
  },
  {
   "cell_type": "markdown",
   "metadata": {},
   "source": [
    "<span style=\"font-size:80%\">[문제4]<br><br></span>\n",
    "```프로세스와 스레드의 차이점을 설명해주세요```"
   ]
  },
  {
   "cell_type": "markdown",
   "metadata": {},
   "source": [
    "<span style=\"color:red\">답변</span>"
   ]
  },
  {
   "cell_type": "markdown",
   "metadata": {},
   "source": [
    "메모리 사용 부분 \n",
    "\n",
    "프로세스는 각각 독립된 메모리 공간을 사용하고, 스레드는 같은 프로세스 내에서 메모리를 공유한다.\n",
    "\n",
    "생성 비용과 성능\n",
    "\n",
    "프로세스는 생성과 종료애 많은 자원이 필요해 무겁고, 스레드는 가볍고 빠르게 생성할 수 있어 성능부분에서 더 유리하다.\n",
    "\n",
    "통신 방식\n",
    "\n",
    "프로세스 간에는 별도의 통신 방법들을 사용해야하고, 스레드는 메모리를 공유하므로 간단하게 데이터 공유가 가능하다.\n",
    "\n",
    "안전성\n",
    "\n",
    "프로세스는 하나가 죽어도 다른 프로세스에게 영향을 주지 않고, 스레드는 하나가 문제를 일으키면 같은 프로세스 내 다른 스레드에도 영향을 줄 수 있다."
   ]
  },
  {
   "cell_type": "markdown",
   "metadata": {},
   "source": [
    "---"
   ]
  },
  {
   "cell_type": "markdown",
   "metadata": {},
   "source": [
    "<span style=\"font-size:80%\">[문제5]<br><br></span>\n",
    "```Python 2버전대와 3버전대의 차이를 성명해주세요```"
   ]
  },
  {
   "cell_type": "markdown",
   "metadata": {},
   "source": [
    "<span style=\"color:red\">답변</span>"
   ]
  },
  {
   "cell_type": "markdown",
   "metadata": {},
   "source": [
    "print문법\n",
    "\n",
    "Python 2: print \"Hello\"\n",
    "\n",
    "Python 3: print(\"Hello\") = 함수 형태로 변형\n",
    "\n",
    "문자열 처리 방식\n",
    "\n",
    "Python 2: 기본 문자열 타입이 ASCII\n",
    "\n",
    "Python 3: 기본 문자열 타입이 유니코드, 더 다양한 언어 지원\n",
    "\n",
    "정수 나눗셈\n",
    "\n",
    "Python 2: 3 / 2 결과는 1 (정수)\n",
    "\n",
    "Python 3: 3 / 2 결과는 1.5 (실수), 정수는 // 사용\n",
    "\n"
   ]
  },
  {
   "cell_type": "markdown",
   "metadata": {},
   "source": [
    "---"
   ]
  },
  {
   "cell_type": "markdown",
   "metadata": {},
   "source": [
    "<span style=\"font-size:80%\">[문제6]<br><br></span>\n",
    "```Python에서 메모리 관리는 어떻게 이루어지는지 설명해주세요```"
   ]
  },
  {
   "cell_type": "markdown",
   "metadata": {},
   "source": [
    "<span style=\"color:red\">답변</span>"
   ]
  },
  {
   "cell_type": "markdown",
   "metadata": {},
   "source": [
    "자동 메모리 관리\n",
    "\n",
    "Python은 가비지 컬렉션을 통해 사용하지 않는 메모리를 자동으로 회수합니다.\n",
    "프로그래머가 직접 메모리를 해제할 필요 없이, 필요 없는 객체는 자동으로 제거됩니다.\n",
    "\n",
    "레퍼런스 카운팅\n",
    "\n",
    "객체가 몇 번 참조되고 있는지를 추적하여, 참조 수가 0이 되면 메모리에서 해제합니다. 사용되지 않는 객체는 즉시 메모리에서 제거됩니다.\n",
    "\n",
    "순환 참조와 가비지 컬렉터\n",
    "\n",
    "두 객체가 서로를 참조하여 참조 카운트가 0이 되지 않는 경우가 발생할 수 있습니다. 이를 해결하기 위해 Python은 내장된 가비지 컬렉터를 사용해 순환 참조도 탐지하고 정리합니다.\n",
    "\n"
   ]
  }
 ],
 "metadata": {
  "language_info": {
   "name": "python"
  }
 },
 "nbformat": 4,
 "nbformat_minor": 2
}
