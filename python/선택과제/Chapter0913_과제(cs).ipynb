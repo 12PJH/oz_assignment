{
 "cells": [
  {
   "cell_type": "markdown",
   "metadata": {
    "id": "WXEwMsfUct7U"
   },
   "source": [
    "컴퓨터 기초 지식을 의미하는 CS(Computer science)는<br>\n",
    "코딩 테스트와 함께 기술 면접에서 지원자에게 필수적으로 요구합니다.<br>\n",
    "\n",
    "수업 내용 중 기술 면접에 자주 나오는 질문 3가지와 기본적으로 알아야 할 내용 과제로 선정했습니다.<br>\n",
    "\n",
    "관련 내용에 대해서는 구글링 또는 관련 서적을 통해 상세히 공부하시고<br>\n",
    "답변은 최대한 핵심만 담아 간결하게 작성해주세요<br>\n",
    "\n",
    "기술 블로그를 운영 중이신 경우<br>\n",
    "답변 내용을 기술 블로그에 작성하신 후 링크를 답변에 남겨주셔도 됩니다.<br>"
   ]
  },
  {
   "cell_type": "markdown",
   "metadata": {
    "id": "qoyC9wF-3hvs"
   },
   "source": [
    "-----"
   ]
  },
  {
   "cell_type": "markdown",
   "metadata": {
    "id": "rAD_O3Gmc_43"
   },
   "source": [
    "[문제1]\n",
    "\n",
    "list와 tuple의 주된 차이점은 무엇인가요?"
   ]
  },
  {
   "cell_type": "markdown",
   "metadata": {},
   "source": [
    "변경가능여부라고 생각한다. list는 가변이고, tuple은 불변이라 요소를 추가, 제거, 변경하여 수정할수 있는 list가 있는 반면 tuple은 요소를 추가, 제거, 변경을 못한다는 것을 뜻한다."
   ]
  },
  {
   "cell_type": "markdown",
   "metadata": {},
   "source": [
    "---"
   ]
  },
  {
   "cell_type": "markdown",
   "metadata": {
    "id": "3uK_auXYdgk2"
   },
   "source": [
    "[문제2]\n",
    "\n",
    "Python의 set에 대해 설명해주세요"
   ]
  },
  {
   "cell_type": "markdown",
   "metadata": {},
   "source": [
    "파이썬의 세트는 중복을 허용하지 않고, 순서가 뒤죽박죽인 집합 자료형이다.  \n",
    "주요 특징으로는 중복을 허용하지않고 동일한 값은 한번만 저장된다. 그리고 요소들의 순서가 없으며 인덱스를 통해 접근할 수 없다. 세트는 튜플과는 다르게 요소를 추가, 삭제 및 변경이 가능하며 교집합, 합집합, 차집합 등 집합 계산이 가능하다.\n",
    "주로 쓰이는 부분은 중복된 데이더 제거, 집합 활요ㅇ, 효율적인 검색이 가능하다."
   ]
  },
  {
   "cell_type": "markdown",
   "metadata": {},
   "source": [
    "---"
   ]
  },
  {
   "cell_type": "markdown",
   "metadata": {},
   "source": [
    "[문제3]\n",
    "\n",
    "Python의 list는 연결리스트(linked list)인가요?"
   ]
  },
  {
   "cell_type": "markdown",
   "metadata": {},
   "source": [
    "아니다.  \n",
    "list는 배열기반이며, 연속적인 메모리 공간 상에 연속적인 위치에 데이터를 저장 및 배치하여 인덱스를 통해 빠르게 접근이 가능하다.  \n",
    "연결리스트는 메모리 상에 연속적으로 데이터를 배치하지 않아 인덱스 접근이 느리다"
   ]
  },
  {
   "cell_type": "markdown",
   "metadata": {},
   "source": [
    "---"
   ]
  },
  {
   "cell_type": "markdown",
   "metadata": {},
   "source": [
    "\n",
    "[문제4]\n",
    "\n",
    "딕셔너리 자료형에 대해 설명해주세요."
   ]
  },
  {
   "cell_type": "markdown",
   "metadata": {},
   "source": [
    "딕셔너리 자료형은 키-값쌍으로 데이터를 저정하는 변경 가능한 자료형이다.  \n",
    "주요 특징으로는 쌍으로 데이터를 저장하고, 데이터의 변경, 삭제 및 추가가 가능하고, 빠른 검색이 가능하며 같은 키에는 여러 값을 저장할 수 없다.  \n",
    "주로 쓰이는 곳은 데이터의 빠른 조회가 필요할 때 키를 기반으로 데이터 관리가 필요할 때에 많이 쓰인다."
   ]
  },
  {
   "cell_type": "markdown",
   "metadata": {},
   "source": [
    "---"
   ]
  }
 ],
 "metadata": {
  "colab": {
   "authorship_tag": "ABX9TyP7YKA5FdtGggYfD74V7SMJ",
   "provenance": []
  },
  "kernelspec": {
   "display_name": "Python 3",
   "name": "python3"
  },
  "language_info": {
   "name": "python"
  }
 },
 "nbformat": 4,
 "nbformat_minor": 0
}
