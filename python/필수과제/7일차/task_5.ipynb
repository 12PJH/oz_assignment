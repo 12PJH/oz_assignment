{
 "cells": [
  {
   "cell_type": "markdown",
   "metadata": {},
   "source": [
    "datetime 모듈을 사용하여 현재 날짜와 시간을 출력하는 프로그램을 작성하세요. \n",
    "\n",
    "또한, 사용자로부터 태어난 년도를 입력받아 현재 나이를 계산하여 출력하세요."
   ]
  },
  {
   "cell_type": "code",
   "execution_count": 2,
   "metadata": {},
   "outputs": [
    {
     "name": "stdout",
     "output_type": "stream",
     "text": [
      "현재 날짜와 시간 출력\n",
      "2025년 4월 24일 16시 5분 33초\n",
      "태어난 년도는 1997입니다.\n"
     ]
    }
   ],
   "source": [
    "import datetime\n",
    "\n",
    "print(\"현재 날짜와 시간 출력\")\n",
    "now = datetime.datetime.now()\n",
    "print(f'{now.year}년 {now.month}월 {now.day}일 {now.hour}시 {now.minute}분 {now.second}초')\n",
    "\n",
    "try:\n",
    "    birth_year = int(input(\"당신의 나이를 입력하세요:\"))\n",
    "    age = now.year - birth_year\n",
    "    print(f\"태어난 년도는 {age}입니다.\")\n",
    "except:\n",
    "    print(\"숫자만 입력하세요\")"
   ]
  }
 ],
 "metadata": {
  "kernelspec": {
   "display_name": "Python 3",
   "language": "python",
   "name": "python3"
  },
  "language_info": {
   "codemirror_mode": {
    "name": "ipython",
    "version": 3
   },
   "file_extension": ".py",
   "mimetype": "text/x-python",
   "name": "python",
   "nbconvert_exporter": "python",
   "pygments_lexer": "ipython3",
   "version": "3.12.6"
  }
 },
 "nbformat": 4,
 "nbformat_minor": 2
}
