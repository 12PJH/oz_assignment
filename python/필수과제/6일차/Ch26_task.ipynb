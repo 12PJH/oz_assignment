{
 "cells": [
  {
   "cell_type": "markdown",
   "metadata": {},
   "source": [
    "0부터 시작하여 n까지의 숫자 중에서 홀수만 생성하는 제너레이터 odd_numbers를 작성하세요."
   ]
  },
  {
   "cell_type": "code",
   "execution_count": null,
   "metadata": {},
   "outputs": [
    {
     "name": "stdout",
     "output_type": "stream",
     "text": [
      "1\n",
      "3\n",
      "5\n",
      "7\n",
      "9\n"
     ]
    }
   ],
   "source": [
    "def odd_number(n):\n",
    "    for i in range(n+1): #0에서 range에 지정된 값까지 반복하는 부분(도착점인 느낌?)\n",
    "        if i % 2 == 1: #홀수나오게 하는 부분\n",
    "            yield i#위 조건에 맞으면 순차적으로 출력\n",
    "\n",
    "n = 10 #변수 지정\n",
    "for num in odd_number(n):#나온 값을 num으로 받는 부분.\n",
    "    print(num)"
   ]
  },
  {
   "cell_type": "markdown",
   "metadata": {},
   "source": [
    "def odd_number(n):\n",
    "    for i in range(n+1): #0에서 range에 지정된 값까지 반복하는 부분(도착점인 느낌?)\n",
    "        if i % 2 == 1: #홀수나오게 하는 부분\n",
    "            yield i#위 조건에 맞으면 순차적으로 출력\n",
    "\n",
    "n = 10 #변수 지정\n",
    "for num in odd_number(n):#나온 값을 num으로 받는 부분.\n",
    "    print(num)"
   ]
  }
 ],
 "metadata": {
  "kernelspec": {
   "display_name": "Python 3",
   "language": "python",
   "name": "python3"
  },
  "language_info": {
   "codemirror_mode": {
    "name": "ipython",
    "version": 3
   },
   "file_extension": ".py",
   "mimetype": "text/x-python",
   "name": "python",
   "nbconvert_exporter": "python",
   "pygments_lexer": "ipython3",
   "version": "3.12.6"
  }
 },
 "nbformat": 4,
 "nbformat_minor": 2
}
