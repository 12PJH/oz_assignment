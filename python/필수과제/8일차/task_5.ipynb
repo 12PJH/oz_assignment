{
 "cells": [
  {
   "cell_type": "markdown",
   "metadata": {},
   "source": [
    "[문제]\n",
    "\n",
    "'Account' 클래스를 작성하세요. \n",
    "\n",
    "이 클래스는 소유자(owner)와 잔액(balance)을 속성으로 가지며, 잔액은 프라이빗 변수로 선언합니다. \n",
    "\n",
    "'deposit'와 'withdraw' 두 개의 메소드를 통해 잔액을 조작할 수 있도록 하세요. \n",
    "\n",
    "이 때, 잔액은 음수가 될 수 없도록 체크해야 합니다. 'Account' 객체를 생성하고,<br>\n",
    "입금 및 출금 작업을 시뮬레이션한 후, 최종 잔액을 출력하세요."
   ]
  },
  {
   "cell_type": "code",
   "execution_count": 11,
   "metadata": {},
   "outputs": [
    {
     "name": "stdout",
     "output_type": "stream",
     "text": [
      "입금금액이 900원 입니다.\n",
      "현재 금액이 100900원 입니다.\n",
      "출금 금액이 100000입니다.\n",
      "현재 잔액은 900입니다.\n",
      "현재 잔액은 900\n"
     ]
    }
   ],
   "source": [
    "class Account:\n",
    "    def __init__(self, owner, balance):\n",
    "        self.owner = owner\n",
    "        self.__balance = balance\n",
    "\n",
    "    def deposit(self, amount):\n",
    "        if amount > 0:\n",
    "            self.__balance += amount\n",
    "            print(f\"입금금액이 {amount}원 입니다.\\n현재 금액이 {self.__balance}원 입니다.\")\n",
    "        else:\n",
    "            print(\"입급 금액이 0원보다 커야합니다.\")\n",
    "\n",
    "    def withdraw(self, amount):\n",
    "        if amount > 0:\n",
    "            if self.__balance >= amount:\n",
    "                self.__balance -= amount\n",
    "                print(f\"출금 금액이 {amount}입니다.\\n현재 잔액은 {self.__balance}입니다.\")\n",
    "            else:\n",
    "                print(\"잔액이 부족합니다.\")\n",
    "\n",
    "    def total_price(self):\n",
    "        return self.__balance\n",
    "\n",
    "account = Account(\"박준혁\", 100000)\n",
    "\n",
    "account.deposit(900)\n",
    "account.withdraw(100000)\n",
    "print(f\"현재 잔액은 {account.total_price()}\")\n"
   ]
  },
  {
   "cell_type": "code",
   "execution_count": 3,
   "metadata": {},
   "outputs": [
    {
     "name": "stdout",
     "output_type": "stream",
     "text": [
      "500이 입금되었습니다. 현재 잔액은 1500입니다.\n",
      "200이 출금되었습니다. 현재 잔액은 1300입니다.\n",
      "잔액이 부족합니다.\n",
      "최종 잔액: 1300\n"
     ]
    }
   ],
   "source": [
    "class Account:\n",
    "    def __init__(self, owner, balance):\n",
    "        self.owner = owner\n",
    "        self.__balance = balance  # 프라이빗 변수로 선언하여 외부에서 직접 접근을 막습니다.\n",
    "\n",
    "    def deposit(self, amount):\n",
    "        \"\"\"입금 메소드: 잔액에 amount만큼 추가합니다.\"\"\"\n",
    "        if amount > 0:\n",
    "            self.__balance += amount\n",
    "            print(f\"{amount}이 입금되었습니다. 현재 잔액은 {self.__balance}입니다.\")\n",
    "        else:\n",
    "            print(\"입금 금액은 0보다 커야 합니다.\")\n",
    "\n",
    "    def withdraw(self, amount):\n",
    "        \"\"\"출금 메소드: 잔액에서 amount만큼 차감합니다. 잔액이 부족하면 출금되지 않습니다.\"\"\"\n",
    "        if amount > 0:\n",
    "            if self.__balance >= amount:\n",
    "                self.__balance -= amount\n",
    "                print(f\"{amount}이 출금되었습니다. 현재 잔액은 {self.__balance}입니다.\")\n",
    "            else:\n",
    "                print(\"잔액이 부족합니다.\")\n",
    "        else:\n",
    "            print(\"출금 금액은 0보다 커야 합니다.\")\n",
    "    \n",
    "    def get_balance(self):\n",
    "        \"\"\"현재 잔액을 반환하는 메소드\"\"\"\n",
    "        return self.__balance\n",
    "\n",
    "\n",
    "# 'Account' 객체 생성\n",
    "account = Account(\"홍길동\", 1000)\n",
    "\n",
    "# 입금 및 출금 시뮬레이션\n",
    "account.deposit(500)  # 500 입금\n",
    "account.withdraw(200)  # 200 출금\n",
    "account.withdraw(1500)  # 잔액 부족으로 출금 실패\n",
    "\n",
    "# 최종 잔액 출력\n",
    "print(f\"최종 잔액: {account.get_balance()}\")\n"
   ]
  }
 ],
 "metadata": {
  "kernelspec": {
   "display_name": "Python 3",
   "language": "python",
   "name": "python3"
  },
  "language_info": {
   "codemirror_mode": {
    "name": "ipython",
    "version": 3
   },
   "file_extension": ".py",
   "mimetype": "text/x-python",
   "name": "python",
   "nbconvert_exporter": "python",
   "pygments_lexer": "ipython3",
   "version": "3.12.6"
  }
 },
 "nbformat": 4,
 "nbformat_minor": 2
}
