{
 "cells": [
  {
   "cell_type": "code",
   "execution_count": 4,
   "id": "d8826b31",
   "metadata": {},
   "outputs": [
    {
     "name": "stdout",
     "output_type": "stream",
     "text": [
      "Data inserted successfully\n"
     ]
    }
   ],
   "source": [
    "from pymongo import MongoClient\n",
    "from datetime import datetime\n",
    "\n",
    "def insert_data():\n",
    "    client = MongoClient('mongodb://localhost:27017/')\n",
    "    db = client.local  # 'local' 데이터베이스 사용\n",
    "\n",
    "    db.books.delete_many({}) # 자꾸 결과가 중복되서 나와서 인공지능의 도움(Feat.GPT)\n",
    "\n",
    "    # 책 데이터 삽입\n",
    "    books = [\n",
    "        {\"title\": \"Kafka on the Shore\", \"author\": \"Haruki Murakami\", \"year\": 2002},\n",
    "        {\"title\": \"Norwegian Wood\", \"author\": \"Haruki Murakami\", \"year\": 1987},\n",
    "        {\"title\": \"1Q84\", \"author\": \"Haruki Murakami\", \"year\": 2009}\n",
    "    ]\n",
    "    db.books.insert_many(books)\n",
    "\n",
    "    # 영화 데이터 삽입\n",
    "    movies = [\n",
    "        {\"title\": \"Inception\", \"director\": \"Christopher Nolan\", \"year\": 2010, \"rating\": 8.8},\n",
    "        {\"title\": \"Interstellar\", \"director\": \"Christopher Nolan\", \"year\": 2014, \"rating\": 8.6},\n",
    "        {\"title\": \"The Dark Knight\", \"director\": \"Christopher Nolan\", \"year\": 2008, \"rating\": 9.0}\n",
    "    ]\n",
    "    db.movies.insert_many(movies)\n",
    "\n",
    "    # 사용자 행동 데이터 삽입\n",
    "    user_actions = [\n",
    "        {\"user_id\": 1, \"action\": \"click\", \"timestamp\": datetime(2023, 4, 12, 8, 0)},\n",
    "        {\"user_id\": 1, \"action\": \"view\", \"timestamp\": datetime(2023, 4, 12, 9, 0)},\n",
    "        {\"user_id\": 2, \"action\": \"purchase\", \"timestamp\": datetime(2023, 4, 12, 10, 0)},\n",
    "    ]\n",
    "    db.user_actions.insert_many(user_actions)\n",
    "\n",
    "    print(\"Data inserted successfully\")\n",
    "    client.close()\n",
    "\n",
    "if __name__ == \"__main__\":\n",
    "    insert_data()\n",
    "\n",
    "\n",
    " "
   ]
  },
  {
   "cell_type": "code",
   "execution_count": 5,
   "id": "e7029314",
   "metadata": {},
   "outputs": [],
   "source": [
    "from pymongo import MongoClient\n",
    "\n",
    "client = MongoClient('mongodb://localhost:27017/')\n",
    "db = client.local  \n",
    "\n",
    "# 장르 추가 #Feat.GPT\n",
    "db.books.update_many(\n",
    "    {},  \n",
    "    {\"$set\": {\"genre\": \"fantasy\"}}  \n",
    ")\n",
    "\n",
    "client.close()"
   ]
  },
  {
   "cell_type": "code",
   "execution_count": 6,
   "id": "041a8629",
   "metadata": {},
   "outputs": [
    {
     "name": "stdout",
     "output_type": "stream",
     "text": [
      "{'title': 'Kafka on the Shore', 'author': 'Haruki Murakami'}\n",
      "{'title': 'Norwegian Wood', 'author': 'Haruki Murakami'}\n",
      "{'title': '1Q84', 'author': 'Haruki Murakami'}\n"
     ]
    }
   ],
   "source": [
    "from pymongo import MongoClient\n",
    "\n",
    "client = MongoClient('mongodb://localhost:27017/')\n",
    "db = client.local \n",
    "\n",
    "def find_books_by_genre(db, genre):\n",
    "    query = {\"genre\": genre}\n",
    "    projection = {\"_id\": 0, \"title\": 1, \"author\": 1}\n",
    "    books = db.books.find(query, projection)\n",
    "    for book in books:\n",
    "        print(book)\n",
    "\n",
    "find_books_by_genre(db, 'fantasy')"
   ]
  },
  {
   "cell_type": "code",
   "execution_count": 7,
   "id": "8ec4f1f8",
   "metadata": {},
   "outputs": [
    {
     "name": "stdout",
     "output_type": "stream",
     "text": [
      "{'_id': 'Christopher Nolan', 'average_rating': 8.8}\n"
     ]
    }
   ],
   "source": [
    "def calculate_average_ratings(db):\n",
    "    movies_collection = db.movies\n",
    "    pipeline = [\n",
    "        {\"$group\": {\"_id\": \"$director\", \"average_rating\": {\"$avg\": \"$rating\"}}},\n",
    "        {\"$sort\": {\"average_rating\": -1}}\n",
    "    ]\n",
    "\n",
    "    results = movies_collection.aggregate(pipeline)\n",
    "    for result in results:\n",
    "        print(result)\n",
    "\n",
    "calculate_average_ratings(db)"
   ]
  },
  {
   "cell_type": "code",
   "execution_count": 8,
   "id": "89984860",
   "metadata": {},
   "outputs": [
    {
     "name": "stdout",
     "output_type": "stream",
     "text": [
      "{'_id': ObjectId('682190d130ea3a4796773b8a'), 'user_id': 1, 'action': 'view', 'timestamp': datetime.datetime(2023, 4, 12, 9, 0)}\n",
      "{'_id': ObjectId('6821918eaebd84087f5353ef'), 'user_id': 1, 'action': 'view', 'timestamp': datetime.datetime(2023, 4, 12, 9, 0)}\n",
      "{'_id': ObjectId('68219182aebd84087f5353e5'), 'user_id': 1, 'action': 'view', 'timestamp': datetime.datetime(2023, 4, 12, 9, 0)}\n",
      "{'_id': ObjectId('68218ec430ea3a4796773b6c'), 'user_id': 1, 'action': 'seen', 'timestamp': datetime.datetime(2023, 4, 12, 9, 0)}\n",
      "{'_id': ObjectId('6821906430ea3a4796773b7b'), 'user_id': 1, 'action': 'view', 'timestamp': datetime.datetime(2023, 4, 12, 9, 0)}\n"
     ]
    }
   ],
   "source": [
    "def find_recent_actions_by_user(db, user_id, limit=5):\n",
    "    user_actions_collection = db.user_actions\n",
    "    query = {\"user_id\": user_id}\n",
    "    sort_criteria = [(\"timestamp\", -1)]\n",
    "\n",
    "    actions = user_actions_collection.find(query).sort(sort_criteria).limit(limit)\n",
    "    for action in actions:\n",
    "        print(action)\n",
    "\n",
    "find_recent_actions_by_user(db, 1)"
   ]
  },
  {
   "cell_type": "code",
   "execution_count": 9,
   "id": "d4fee784",
   "metadata": {},
   "outputs": [
    {
     "name": "stdout",
     "output_type": "stream",
     "text": [
      "{'_id': 2002, 'count': 1}\n",
      "{'_id': 1987, 'count': 1}\n",
      "{'_id': 2009, 'count': 1}\n"
     ]
    }
   ],
   "source": [
    "def count_books_by_year(db):\n",
    "    books_collection = db.books\n",
    "    pipeline = [\n",
    "        {\"$group\": {\"_id\": \"$year\", \"count\": {\"$sum\": 1}}},\n",
    "        {\"$sort\": {\"count\": -1}}\n",
    "    ]\n",
    "\n",
    "    results = books_collection.aggregate(pipeline)\n",
    "    for result in results:\n",
    "        print(result)\n",
    "\n",
    "count_books_by_year(db)"
   ]
  },
  {
   "cell_type": "code",
   "execution_count": 10,
   "id": "eb42d088",
   "metadata": {},
   "outputs": [
    {
     "name": "stdout",
     "output_type": "stream",
     "text": [
      "Updated 0 documents.\n"
     ]
    }
   ],
   "source": [
    "from datetime import datetime\n",
    "\n",
    "def update_user_actions_before_date(db, user_id, date, old_action, new_action):\n",
    "    user_actions_collection = db.user_actions\n",
    "    query = {\"user_id\": user_id, \"action\": old_action, \"timestamp\": {\"$lt\": date}}\n",
    "    update = {\"$set\": {\"action\": new_action}}\n",
    "\n",
    "    result = user_actions_collection.update_many(query, update)\n",
    "    print(f\"Updated {result.modified_count} documents.\")\n",
    "\n",
    "update_user_actions_before_date(db, 1, datetime(2023, 4, 10), \"view\", \"seen\")"
   ]
  }
 ],
 "metadata": {
  "kernelspec": {
   "display_name": "Python 3",
   "language": "python",
   "name": "python3"
  },
  "language_info": {
   "codemirror_mode": {
    "name": "ipython",
    "version": 3
   },
   "file_extension": ".py",
   "mimetype": "text/x-python",
   "name": "python",
   "nbconvert_exporter": "python",
   "pygments_lexer": "ipython3",
   "version": "3.12.6"
  }
 },
 "nbformat": 4,
 "nbformat_minor": 5
}
